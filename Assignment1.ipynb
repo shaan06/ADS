{
 "cells": [
  {
   "cell_type": "code",
   "execution_count": 2,
   "metadata": {
    "collapsed": true
   },
   "outputs": [],
   "source": [
    "from bs4 import BeautifulSoup\n",
    "import urllib.request\n",
    "import re\n",
    "import sys\n",
    "import pandas as pd"
   ]
  },
  {
   "cell_type": "code",
   "execution_count": 4,
   "metadata": {},
   "outputs": [
    {
     "name": "stdout",
     "output_type": "stream",
     "text": [
      "Enter CIK Number  1288776\n",
      "Enter the accession number 000128877615000046\n",
      "https://www.sec.gov/Archives/edgar/data/1288776/000128877615000046/0001288776-15-000046-index.html\n",
      "https://www.sec.gov/Archives/edgar/data/1288776/000128877615000046/goog10-qq32015.htm\n"
     ]
    }
   ],
   "source": [
    "CIK = input('Enter CIK Number  ')\n",
    "acc_no = input('Enter the accession number ')\n",
    "\n",
    "def insert_dash(string):\n",
    "    if (len(string) == 18):\n",
    "        return string[:10] + \"-\" + string[10:12] + \"-\" + string[12:]\n",
    "    else:\n",
    "        print(\"invailid\")\n",
    "accession_no = insert_dash(acc_no)\n",
    "baseURL = \"https://www.sec.gov\"\n",
    "URL = (baseURL + \"/Archives/edgar/data/\"+ CIK+\"/\" + acc_no + \"/\"+ accession_no +\"-index.html\")\n",
    "print(URL)\n",
    "externalList = []\n",
    "#accession_no = acc_no.\n",
    "soup = BeautifulSoup((urllib.request.urlopen(URL)),\"html.parser\")\n",
    "for t in soup.find_all('table' , attrs={\"summary\": \"Document Format Files\"}):\n",
    "     for tr in soup.find_all('tr'):\n",
    "        for td in tr.findChildren('td'):\n",
    "            if(td.text == '10-Q'):\n",
    "                for a in tr.findChildren('a', href=True):\n",
    "                    href = (a['href'])\n",
    "\n",
    "finalURL = baseURL + href                    \n",
    "print(finalURL)\n",
    "\n",
    "url = finalURL\n",
    "\n",
    "for i, df in enumerate(pd.read_html(url)):\n",
    "    df.to_csv('myfile_%s.csv' % i)\n",
    "\n",
    "\n",
    "                \n",
    "            \n",
    "\n",
    "               \n",
    "                \n"
   ]
  },
  {
   "cell_type": "code",
   "execution_count": null,
   "metadata": {
    "collapsed": true
   },
   "outputs": [],
   "source": []
  }
 ],
 "metadata": {
  "kernelspec": {
   "display_name": "Python [conda root]",
   "language": "python",
   "name": "conda-root-py"
  },
  "language_info": {
   "codemirror_mode": {
    "name": "ipython",
    "version": 3
   },
   "file_extension": ".py",
   "mimetype": "text/x-python",
   "name": "python",
   "nbconvert_exporter": "python",
   "pygments_lexer": "ipython3",
   "version": "3.5.3"
  }
 },
 "nbformat": 4,
 "nbformat_minor": 2
}

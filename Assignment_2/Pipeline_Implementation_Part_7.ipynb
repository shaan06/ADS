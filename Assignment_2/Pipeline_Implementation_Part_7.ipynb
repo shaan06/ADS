{
 "cells": [
  {
   "cell_type": "code",
   "execution_count": 1,
   "metadata": {},
   "outputs": [
    {
     "name": "stderr",
     "output_type": "stream",
     "text": [
      "C:\\Users\\Dell\\Anaconda3\\lib\\site-packages\\statsmodels\\compat\\pandas.py:56: FutureWarning: The pandas.core.datetools module is deprecated and will be removed in a future version. Please use the pandas.tseries module instead.\n",
      "  from pandas.core import datetools\n"
     ]
    }
   ],
   "source": [
    "import pandas as pd\n",
    "import numpy as np\n",
    "import matplotlib.pyplot as plt\n",
    "import seaborn as sns\n",
    "%matplotlib inline\n",
    "import statsmodels.api as sm"
   ]
  },
  {
   "cell_type": "code",
   "execution_count": 2,
   "metadata": {
    "collapsed": true
   },
   "outputs": [],
   "source": [
    "energy_dataset = pd.read_csv('C:/Users/Dell/Desktop/Appliances-energy-prediction-data-master/energydata_complete.csv')"
   ]
  },
  {
   "cell_type": "code",
   "execution_count": 3,
   "metadata": {
    "collapsed": true
   },
   "outputs": [],
   "source": [
    "def feature_transformation(energy_dataset):\n",
    "    energy_dataset.rename(columns={'T1':'TempKitchen','RH_1':'HumKitchen','T2':'TempLivingRoom','RH_2':'HumLivingRoom',\n",
    "                   'T3':'TempLaundryRoom','RH_3':'HumLaundryRoom','T4':'TempOfficeRoom','RH_4':'HumOfficeRoom',\n",
    "                   'T5':'TempBathRoom','RH_5':'HumBathRoom','T6':'TempOutsideNorth','RH_6':'HumOutsideNorth',\n",
    "                   'T7':'TempIroningRoom','RH_7':'HumIroningRoom','T8':'TempTeenagerRoom','RH_8':'HumTeenagerRoom',\n",
    "                   'T9':'TempParentRoom','RH_9':'_HumParentRoom','T_out':'TempOutside','Press_mm_hg':'Pressure',\n",
    "                   'RH_out':'Humidity'},inplace=True)\n",
    "    energy_dataset['date'] = pd.to_datetime(energy_dataset['date'])\n",
    "    energy_dataset['Day']=energy_dataset['date'].dt.weekday_name\n",
    "\n",
    "## Adding month of the year\n",
    "    energy_dataset['Month'] = energy_dataset['date'].dt.month\n",
    "\n",
    "## Adding time of the day\n",
    "    energy_dataset['hour'] = energy_dataset['date'].dt.hour\n",
    "\n",
    "## Adding time of the day\n",
    "    energy_dataset['NSM'] = energy_dataset['hour']*3600\n",
    "    return energy_dataset\n",
    "#trial = feature_transformation(energy_dataset)"
   ]
  },
  {
   "cell_type": "code",
   "execution_count": 4,
   "metadata": {
    "collapsed": true
   },
   "outputs": [],
   "source": [
    "def boruta_implementation(X1, Y1):\n",
    "    import pandas as pd\n",
    "    from sklearn.ensemble import RandomForestRegressor\n",
    "    from boruta import BorutaPy\n",
    "\n",
    "   # load X and y\n",
    "   # NOTE BorutaPy accepts numpy arrays only, hence the .values attribute\n",
    "    X = X1.values\n",
    "    y = y1.values\n",
    "\n",
    "    # define random forest classifier, with utilising all cores and\n",
    "    # sampling in proportion to y labels\n",
    "    rf = RandomForestRegressor(n_estimators=100 , max_depth=5)\n",
    "\n",
    "    # define Boruta feature selection method\n",
    "    feat_selector = BorutaPy(rf, n_estimators='auto', verbose=2)\n",
    "\n",
    "    # find all relevant features\n",
    "    feat_selector.fit(X, y)\n",
    "\n",
    "    # check selected features\n",
    "    feat_selector.support_\n",
    "\n",
    "    # check ranking of features\n",
    "    feat_selector.ranking_\n",
    "    sel_columns = []\n",
    "    for i in range(len(X_trn.columns)-1):\n",
    "        print(str(X_trn.columns[i])+\" : \"+str(rfe.support_[i])+\", rank: \"+str(rfe.ranking_[i]))\n",
    "        if feat_selector.ranking_[i] == 1:\n",
    "            sel_columns.append(str(X_trn.columns[i]))\n",
    "    return sel_columns"
   ]
  },
  {
   "cell_type": "code",
   "execution_count": 5,
   "metadata": {
    "collapsed": true
   },
   "outputs": [],
   "source": [
    "def getTrainSplit(X,y):\n",
    "    from sklearn.model_selection import train_test_split\n",
    "    X_train, X_test, y_train, y_test = train_test_split(X, y, test_size=0.2, random_state=2)\n",
    "    return X_train, X_test, y_train, y_test"
   ]
  },
  {
   "cell_type": "code",
   "execution_count": 10,
   "metadata": {
    "collapsed": true
   },
   "outputs": [],
   "source": [
    "def random_forest_regression(X_train, y_train , X_test , y_test):\n",
    "           ## RandomForest_Part4\n",
    "           ## Testing Dataset\n",
    "    from sklearn.ensemble import RandomForestRegressor\n",
    "    from sklearn.metrics import mean_squared_error\n",
    "    from sklearn.metrics import r2_score\n",
    "    from sklearn.metrics import mean_absolute_error\n",
    "    rf = RandomForestRegressor(n_estimators = 100, random_state = np.random)\n",
    "    #rf = RandomForestRegressor(n_estimators=100, oob_score=True, random_state=123456)\n",
    "    rf.fit(X_train, y_train)\n",
    "    from sklearn.metrics import accuracy_score\n",
    "    prediction = rf.predict(X_test)\n",
    "    r2_test = r2_score(y_test, prediction)\n",
    "    mse_test = mean_squared_error(y_test, prediction)\n",
    "    mae_test = mean_absolute_error(y_test, prediction)\n",
    "    #accuracy = accuracy_score(y_test, prediction)\n",
    "    rmse_test = np.sqrt(mse_test)\n",
    "    mape_test =  np.mean(np.abs((y_test-prediction) / y_test) ) * 100\n",
    "    print(prediction)\n",
    "    #print(\"Accuracy:\" , accuracy)\n",
    "    print(\"Mape\" , mape_test)\n",
    "    print(\"R2\" , r2_test)\n",
    "    print(\"MAE\" , mae_test)\n",
    "    print(\"RMSE\" , rmse_test)\n",
    "\n",
    "    # Calculate and display accuracy\n",
    "    #accuracy = 100 - mape\n",
    "    #print('Accuracy:', round(accuracy, 2), '%.')\n",
    "\n",
    "    print('Accuracy testing : {:.3f}'.format(rf.score(X_test, y_test)))\n",
    "    ## RandomForest_Part4\n",
    "    ## Training Dataset\n",
    "    from sklearn.ensemble import RandomForestRegressor\n",
    "    rf = RandomForestRegressor(n_estimators=100, random_state = np.random)\n",
    "    rf.fit(X_train, y_train)\n",
    "    from sklearn.metrics import accuracy_score\n",
    "    prediction = rf.predict(X_train)\n",
    "    r2_train = r2_score(y_train, prediction)\n",
    "    mse_train = mean_squared_error(y_train, prediction)\n",
    "    mae_train = mean_absolute_error(y_train, prediction)\n",
    "    mape_train = np.mean ((np.abs((y_train - prediction) / y_train)) * 100)\n",
    "    #accuracy = 100 - mape\n",
    "    rms_train = np.sqrt(mse)\n",
    "    #print(predicted)\n",
    "    print(\"Mape = \" , mape_train )\n",
    "    #print(\"Accuracy = \" , accuracy)\n",
    "    print(\"Root Sqaure = \" , r2_train)\n",
    "    print(\"Mean Absoulute Error = \" , mae_train)\n",
    "    print(\"Root Mean Square Error = \", rms_train)\n",
    "    print('Accuracy training : {:.3f}'.format(rf.score(X_train, y_train)))"
   ]
  },
  {
   "cell_type": "code",
   "execution_count": 7,
   "metadata": {
    "collapsed": true
   },
   "outputs": [],
   "source": [
    "dataset = feature_transformation(energy_dataset)\n",
    "X1 = dataset[['lights', 'TempKitchen', 'HumKitchen', 'TempLivingRoom',\n",
    "  'HumLivingRoom', 'TempLaundryRoom', 'HumLaundryRoom', 'TempOfficeRoom',\n",
    "  'HumOfficeRoom', 'TempBathRoom', 'HumBathRoom', 'TempOutsideNorth',\n",
    "  'HumOutsideNorth', 'TempIroningRoom', 'HumIroningRoom',\n",
    "  'TempTeenagerRoom', 'HumTeenagerRoom', 'TempParentRoom',\n",
    "  '_HumParentRoom', 'TempOutside', 'Pressure', 'Humidity', 'Windspeed',\n",
    "  'Tdewpoint']]\n",
    "Y1 = dataset['Appliances']\n",
    "\n",
    "    "
   ]
  },
  {
   "cell_type": "code",
   "execution_count": null,
   "metadata": {
    "collapsed": true
   },
   "outputs": [],
   "source": [
    "extracted_features = boruta_implementation(extracted_features, Y1)"
   ]
  },
  {
   "cell_type": "code",
   "execution_count": 8,
   "metadata": {
    "collapsed": true
   },
   "outputs": [],
   "source": [
    "X_train, X_test, y_train, y_test = getTrainSplit(X1,Y1)"
   ]
  },
  {
   "cell_type": "code",
   "execution_count": null,
   "metadata": {
    "collapsed": true
   },
   "outputs": [],
   "source": [
    "random_forest_regression(X_train, y_train , X_test , y_test)"
   ]
  },
  {
   "cell_type": "code",
   "execution_count": null,
   "metadata": {
    "collapsed": true
   },
   "outputs": [],
   "source": []
  }
 ],
 "metadata": {
  "kernelspec": {
   "display_name": "Python [conda root]",
   "language": "python",
   "name": "conda-root-py"
  },
  "language_info": {
   "codemirror_mode": {
    "name": "ipython",
    "version": 3
   },
   "file_extension": ".py",
   "mimetype": "text/x-python",
   "name": "python",
   "nbconvert_exporter": "python",
   "pygments_lexer": "ipython3",
   "version": "3.5.3"
  }
 },
 "nbformat": 4,
 "nbformat_minor": 2
}
